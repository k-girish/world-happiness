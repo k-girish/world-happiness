{
 "cells": [
  {
   "cell_type": "code",
   "execution_count": 31,
   "id": "37c55d34",
   "metadata": {},
   "outputs": [],
   "source": [
    "# Locally defined imports\n",
    "from src.utils import view_all_df\n",
    "from src.training import MultiModelPipeline\n",
    "\n",
    "import pandas as pd\n",
    "import numpy as np\n",
    "import matplotlib.pyplot as plt\n",
    "from tqdm.notebook import tqdm\n",
    "from scipy.sparse import csr_matrix\n",
    "\n",
    "# sklearn metrics and analysis\n",
    "from sklearn.metrics import mean_squared_error, r2_score\n",
    "from sklearn.inspection import plot_partial_dependence\n",
    "\n",
    "# sklearn preprocessing\n",
    "from sklearn.preprocessing import StandardScaler\n",
    "from sklearn.impute import MissingIndicator\n",
    "\n",
    "# sklearn model selection and pipeline\n",
    "from sklearn.model_selection import GridSearchCV\n",
    "from sklearn.pipeline import Pipeline\n",
    "\n",
    "# sklearn models\n",
    "from sklearn.ensemble import RandomForestRegressor, GradientBoostingRegressor\n",
    "from sklearn.neighbors import KNeighborsRegressor\n",
    "from sklearn.svm import SVR\n",
    "from sklearn.neural_network import MLPRegressor"
   ]
  },
  {
   "cell_type": "code",
   "execution_count": 65,
   "id": "9fac57ea",
   "metadata": {},
   "outputs": [],
   "source": [
    "X = pd.read_csv('../data/final_training_data.csv')"
   ]
  },
  {
   "cell_type": "markdown",
   "id": "df67e1ae",
   "metadata": {},
   "source": [
    "#### Create train and test split"
   ]
  },
  {
   "cell_type": "code",
   "execution_count": 66,
   "id": "d7508ea9",
   "metadata": {},
   "outputs": [],
   "source": [
    "n_test_data = 3\n",
    "country_names = X['Country name'].unique()\n",
    "test_countries = np.random.choice(country_names, size=n_test_data, replace=False)\n",
    "XTest = X[X['Country name'].isin(test_countries)].reset_index(drop=True)\n",
    "XTrain = X[~X['Country name'].isin(test_countries)].reset_index(drop=True)\n",
    "\n",
    "X_test = XTest.iloc[:, 2:].values.astype('float')\n",
    "y_test = XTest.values[:, 1].reshape(-1).astype('float')"
   ]
  },
  {
   "cell_type": "code",
   "execution_count": 67,
   "id": "cb5cffee",
   "metadata": {},
   "outputs": [],
   "source": [
    "X_train = XTrain.iloc[:, 2:].values.astype('float')\n",
    "y_train = XTrain.values[:, 1].reshape(-1).astype('float')"
   ]
  },
  {
   "cell_type": "code",
   "execution_count": 68,
   "id": "a7e58889",
   "metadata": {},
   "outputs": [
    {
     "name": "stdout",
     "output_type": "stream",
     "text": [
      "(2038, 18) (47, 18) (2038,) (47,)\n"
     ]
    }
   ],
   "source": [
    "print(X_train.shape, X_test.shape, y_train.shape, y_test.shape)"
   ]
  },
  {
   "cell_type": "code",
   "execution_count": 69,
   "id": "d38cc2a2",
   "metadata": {},
   "outputs": [],
   "source": [
    "n_splits = 50\n",
    "n_countries_per_split = 3\n",
    "\n",
    "cv_splits = []\n",
    "\n",
    "for split_idx in range(n_splits):\n",
    "    split_countries = np.random.choice(XTrain['Country name'].unique(), size=n_countries_per_split, replace=False)\n",
    "    val = XTrain[XTrain['Country name'].isin(split_countries)].index.values\n",
    "    train = XTrain[~XTrain['Country name'].isin(split_countries)].index.values\n",
    "    cv_splits.append((train, val))"
   ]
  },
  {
   "cell_type": "markdown",
   "id": "17c1737e",
   "metadata": {},
   "source": [
    "#### Convert data to sparse matrices"
   ]
  },
  {
   "cell_type": "code",
   "execution_count": 70,
   "id": "fce1a528",
   "metadata": {},
   "outputs": [],
   "source": [
    "X_train = csr_matrix(X_train)\n",
    "X_test = csr_matrix(X_test)"
   ]
  },
  {
   "cell_type": "markdown",
   "id": "9d44c276",
   "metadata": {},
   "source": [
    "#### Model predicting mean"
   ]
  },
  {
   "cell_type": "code",
   "execution_count": 71,
   "id": "4aea90bc",
   "metadata": {},
   "outputs": [],
   "source": [
    "mean_values = X.groupby('Country name').mean().loc[:, 'Ladder score']"
   ]
  },
  {
   "cell_type": "code",
   "execution_count": 72,
   "id": "09fa6760",
   "metadata": {},
   "outputs": [
    {
     "data": {
      "text/html": [
       "<div>\n",
       "<style scoped>\n",
       "    .dataframe tbody tr th:only-of-type {\n",
       "        vertical-align: middle;\n",
       "    }\n",
       "\n",
       "    .dataframe tbody tr th {\n",
       "        vertical-align: top;\n",
       "    }\n",
       "\n",
       "    .dataframe thead th {\n",
       "        text-align: right;\n",
       "    }\n",
       "</style>\n",
       "<table border=\"1\" class=\"dataframe\">\n",
       "  <thead>\n",
       "    <tr style=\"text-align: right;\">\n",
       "      <th></th>\n",
       "      <th>Country name</th>\n",
       "      <th>Ladder score</th>\n",
       "      <th>pred</th>\n",
       "    </tr>\n",
       "  </thead>\n",
       "  <tbody>\n",
       "    <tr>\n",
       "      <th>0</th>\n",
       "      <td>Afghanistan</td>\n",
       "      <td>-1.577079</td>\n",
       "      <td>-1.76768</td>\n",
       "    </tr>\n",
       "    <tr>\n",
       "      <th>1</th>\n",
       "      <td>Afghanistan</td>\n",
       "      <td>-0.966851</td>\n",
       "      <td>-1.76768</td>\n",
       "    </tr>\n",
       "    <tr>\n",
       "      <th>2</th>\n",
       "      <td>Afghanistan</td>\n",
       "      <td>-0.646436</td>\n",
       "      <td>-1.76768</td>\n",
       "    </tr>\n",
       "    <tr>\n",
       "      <th>3</th>\n",
       "      <td>Afghanistan</td>\n",
       "      <td>-1.479874</td>\n",
       "      <td>-1.76768</td>\n",
       "    </tr>\n",
       "    <tr>\n",
       "      <th>4</th>\n",
       "      <td>Afghanistan</td>\n",
       "      <td>-1.523976</td>\n",
       "      <td>-1.76768</td>\n",
       "    </tr>\n",
       "    <tr>\n",
       "      <th>...</th>\n",
       "      <td>...</td>\n",
       "      <td>...</td>\n",
       "      <td>...</td>\n",
       "    </tr>\n",
       "    <tr>\n",
       "      <th>2080</th>\n",
       "      <td>Zimbabwe</td>\n",
       "      <td>-1.654482</td>\n",
       "      <td>-1.475824</td>\n",
       "    </tr>\n",
       "    <tr>\n",
       "      <th>2081</th>\n",
       "      <td>Zimbabwe</td>\n",
       "      <td>-1.674283</td>\n",
       "      <td>-1.475824</td>\n",
       "    </tr>\n",
       "    <tr>\n",
       "      <th>2082</th>\n",
       "      <td>Zimbabwe</td>\n",
       "      <td>-2.504122</td>\n",
       "      <td>-1.475824</td>\n",
       "    </tr>\n",
       "    <tr>\n",
       "      <th>2083</th>\n",
       "      <td>Zimbabwe</td>\n",
       "      <td>-2.084702</td>\n",
       "      <td>-1.475824</td>\n",
       "    </tr>\n",
       "    <tr>\n",
       "      <th>2084</th>\n",
       "      <td>Zimbabwe</td>\n",
       "      <td>-2.098203</td>\n",
       "      <td>-1.475824</td>\n",
       "    </tr>\n",
       "  </tbody>\n",
       "</table>\n",
       "<p>2085 rows × 3 columns</p>\n",
       "</div>"
      ],
      "text/plain": [
       "     Country name  Ladder score      pred\n",
       "0     Afghanistan     -1.577079  -1.76768\n",
       "1     Afghanistan     -0.966851  -1.76768\n",
       "2     Afghanistan     -0.646436  -1.76768\n",
       "3     Afghanistan     -1.479874  -1.76768\n",
       "4     Afghanistan     -1.523976  -1.76768\n",
       "...           ...           ...       ...\n",
       "2080     Zimbabwe     -1.654482 -1.475824\n",
       "2081     Zimbabwe     -1.674283 -1.475824\n",
       "2082     Zimbabwe     -2.504122 -1.475824\n",
       "2083     Zimbabwe     -2.084702 -1.475824\n",
       "2084     Zimbabwe     -2.098203 -1.475824\n",
       "\n",
       "[2085 rows x 3 columns]"
      ]
     },
     "execution_count": 72,
     "metadata": {},
     "output_type": "execute_result"
    }
   ],
   "source": [
    "temp = X.copy().loc[:, ['Country name', 'Ladder score']]\n",
    "temp['pred'] = None\n",
    "for idx in range(len(temp)):\n",
    "    temp.iloc[idx, 2] = mean_values[temp.iloc[idx, 0]]\n",
    "temp"
   ]
  },
  {
   "cell_type": "code",
   "execution_count": 73,
   "id": "96fcb5c9",
   "metadata": {},
   "outputs": [
    {
     "data": {
      "text/plain": [
       "0.8782711167902244"
      ]
     },
     "execution_count": 73,
     "metadata": {},
     "output_type": "execute_result"
    }
   ],
   "source": [
    "r2_score(temp['Ladder score'].values, temp['pred'].values)"
   ]
  },
  {
   "cell_type": "markdown",
   "id": "747918b8",
   "metadata": {},
   "source": [
    "#### Training"
   ]
  },
  {
   "cell_type": "code",
   "execution_count": 74,
   "id": "29c45961",
   "metadata": {},
   "outputs": [],
   "source": [
    "pipeline_parameters = [\n",
    "    {\n",
    "        'estimator': [RandomForestRegressor()],\n",
    "        'estimator__n_estimators': [100],\n",
    "        'estimator__max_depth': [5]\n",
    "    },\n",
    "    {\n",
    "        'estimator': [GradientBoostingRegressor()],\n",
    "        'estimator__n_estimators': [100],\n",
    "        'estimator__max_depth': [5]\n",
    "    },\n",
    "    {\n",
    "        'estimator': [KNeighborsRegressor()],\n",
    "        'estimator__n_neighbors': [10]\n",
    "    },\n",
    "    {\n",
    "        'estimator': [SVR()],\n",
    "        'estimator__kernel': ['rbf'],\n",
    "        'estimator__gamma': ['auto']\n",
    "    }\n",
    "    ,\n",
    "    {\n",
    "        'estimator': [MLPRegressor(max_iter=20)],\n",
    "        'estimator__hidden_layer_sizes': [(10, 5), (5)],\n",
    "        'estimator__activation': ['logistic', 'relu']\n",
    "    }\n",
    "]"
   ]
  },
  {
   "cell_type": "code",
   "execution_count": 75,
   "id": "53bd08a7",
   "metadata": {},
   "outputs": [],
   "source": [
    "pipeline = MultiModelPipeline(parameters = pipeline_parameters, cv = cv_splits)"
   ]
  },
  {
   "cell_type": "code",
   "execution_count": 76,
   "id": "e8bdd2a0",
   "metadata": {},
   "outputs": [
    {
     "name": "stdout",
     "output_type": "stream",
     "text": [
      "Fitting 50 folds for each of 8 candidates, totalling 400 fits\n"
     ]
    }
   ],
   "source": [
    "pipeline.fit(X_train, y_train)"
   ]
  },
  {
   "cell_type": "code",
   "execution_count": 77,
   "id": "2d2908d7",
   "metadata": {},
   "outputs": [
    {
     "name": "stdout",
     "output_type": "stream",
     "text": [
      "Best estimator is: \n",
      "{'estimator': SVR(gamma='auto'), 'estimator__gamma': 'auto', 'estimator__kernel': 'rbf'}\n",
      "Best estimator cross validation score is: \n",
      "0.22672906776834614\n"
     ]
    },
    {
     "data": {
      "text/html": [
       "<div>\n",
       "<style scoped>\n",
       "    .dataframe tbody tr th:only-of-type {\n",
       "        vertical-align: middle;\n",
       "    }\n",
       "\n",
       "    .dataframe tbody tr th {\n",
       "        vertical-align: top;\n",
       "    }\n",
       "\n",
       "    .dataframe thead th {\n",
       "        text-align: right;\n",
       "    }\n",
       "</style>\n",
       "<table border=\"1\" class=\"dataframe\">\n",
       "  <thead>\n",
       "    <tr style=\"text-align: right;\">\n",
       "      <th></th>\n",
       "      <th>rank_test_score</th>\n",
       "      <th>param_estimator</th>\n",
       "      <th>mean_fit_time</th>\n",
       "      <th>mean_test_score</th>\n",
       "    </tr>\n",
       "  </thead>\n",
       "  <tbody>\n",
       "    <tr>\n",
       "      <th>0</th>\n",
       "      <td>2</td>\n",
       "      <td>RandomForestRegressor()</td>\n",
       "      <td>0.775132</td>\n",
       "      <td>0.204863</td>\n",
       "    </tr>\n",
       "    <tr>\n",
       "      <th>1</th>\n",
       "      <td>3</td>\n",
       "      <td>GradientBoostingRegressor()</td>\n",
       "      <td>0.834994</td>\n",
       "      <td>0.182142</td>\n",
       "    </tr>\n",
       "    <tr>\n",
       "      <th>2</th>\n",
       "      <td>4</td>\n",
       "      <td>KNeighborsRegressor()</td>\n",
       "      <td>0.001277</td>\n",
       "      <td>0.151536</td>\n",
       "    </tr>\n",
       "    <tr>\n",
       "      <th>3</th>\n",
       "      <td>1</td>\n",
       "      <td>SVR(gamma='auto')</td>\n",
       "      <td>0.239652</td>\n",
       "      <td>0.226729</td>\n",
       "    </tr>\n",
       "    <tr>\n",
       "      <th>4</th>\n",
       "      <td>8</td>\n",
       "      <td>MLPRegressor(max_iter=20)</td>\n",
       "      <td>0.304332</td>\n",
       "      <td>-1.090663</td>\n",
       "    </tr>\n",
       "    <tr>\n",
       "      <th>5</th>\n",
       "      <td>6</td>\n",
       "      <td>MLPRegressor(max_iter=20)</td>\n",
       "      <td>0.250758</td>\n",
       "      <td>-0.808050</td>\n",
       "    </tr>\n",
       "    <tr>\n",
       "      <th>6</th>\n",
       "      <td>5</td>\n",
       "      <td>MLPRegressor(max_iter=20)</td>\n",
       "      <td>0.335636</td>\n",
       "      <td>0.073075</td>\n",
       "    </tr>\n",
       "    <tr>\n",
       "      <th>7</th>\n",
       "      <td>7</td>\n",
       "      <td>MLPRegressor(max_iter=20)</td>\n",
       "      <td>0.236634</td>\n",
       "      <td>-0.963926</td>\n",
       "    </tr>\n",
       "  </tbody>\n",
       "</table>\n",
       "</div>"
      ],
      "text/plain": [
       "   rank_test_score              param_estimator  mean_fit_time  \\\n",
       "0                2      RandomForestRegressor()       0.775132   \n",
       "1                3  GradientBoostingRegressor()       0.834994   \n",
       "2                4        KNeighborsRegressor()       0.001277   \n",
       "3                1            SVR(gamma='auto')       0.239652   \n",
       "4                8    MLPRegressor(max_iter=20)       0.304332   \n",
       "5                6    MLPRegressor(max_iter=20)       0.250758   \n",
       "6                5    MLPRegressor(max_iter=20)       0.335636   \n",
       "7                7    MLPRegressor(max_iter=20)       0.236634   \n",
       "\n",
       "   mean_test_score  \n",
       "0         0.204863  \n",
       "1         0.182142  \n",
       "2         0.151536  \n",
       "3         0.226729  \n",
       "4        -1.090663  \n",
       "5        -0.808050  \n",
       "6         0.073075  \n",
       "7        -0.963926  "
      ]
     },
     "metadata": {},
     "output_type": "display_data"
    }
   ],
   "source": [
    "pipeline.show_fit_results()"
   ]
  },
  {
   "cell_type": "code",
   "execution_count": 78,
   "id": "9dc17fa4",
   "metadata": {},
   "outputs": [
    {
     "name": "stdout",
     "output_type": "stream",
     "text": [
      "For the best estimator:\n",
      "Cross validation R2 score: 0.22672906776834614\n",
      "Train score is: 0.22672906776834614\n",
      "Cross validation score is: 0.22672906776834614\n",
      "Training MSE: 0.1449965173336034\n",
      "Training R2 score: 0.8550983743216151\n",
      "Test MSE: 0.36262014230531975\n",
      "Test R2 score: 0.3460082919453674\n"
     ]
    }
   ],
   "source": [
    "pipeline.show_scores( X_train, y_train, X_test, y_test)"
   ]
  },
  {
   "cell_type": "code",
   "execution_count": 79,
   "id": "c3b3c439",
   "metadata": {},
   "outputs": [
    {
     "data": {
      "image/png": "[encoded data removed]",
      "text/plain": [
       "<Figure size 1080x720 with 18 Axes>"
      ]
     },
     "metadata": {
      "needs_background": "light"
     },
     "output_type": "display_data"
    }
   ],
   "source": [
    "fig, ax = plt.subplots(figsize=(15, 10))\n",
    "ax.set_title('Random Forest prediction with features')\n",
    "ppd_plot = plot_partial_dependence(pipeline.model.best_estimator_, X_train.toarray(), range(X_train.shape[1]-1), feature_names = XTrain.columns[2:-1], ax=ax)\n",
    "plt.show()"
   ]
  },
  {
   "cell_type": "markdown",
   "id": "22c5d375",
   "metadata": {},
   "source": [
    "#### Error analysis"
   ]
  },
  {
   "cell_type": "code",
   "execution_count": null,
   "id": "19f5d0e9",
   "metadata": {},
   "outputs": [],
   "source": [
    "temp = np.abs(y_train-y_pred)/y_train\n",
    "error_df = pd.DataFrame(temp, columns=['error'])\n",
    "\n",
    "error_df.loc[:, 'country'] = X.loc[:, 'Country name']\n",
    "error_df.loc[:, 'year'] = X.loc[:, 'year'] + min_year\n",
    "error_df = error_df.sort_values(by=['error'], ascending=False).reset_index(drop=True)\n",
    "error_df"
   ]
  },
  {
   "cell_type": "code",
   "execution_count": null,
   "id": "e7adb00b",
   "metadata": {},
   "outputs": [],
   "source": [
    "plt.plot(error_df['error'].values)\n",
    "plt.plot(error_df['error'].values[:100])"
   ]
  },
  {
   "cell_type": "code",
   "execution_count": null,
   "id": "f7155fdf",
   "metadata": {},
   "outputs": [],
   "source": [
    "temp1 = error_df.iloc[:100, :].groupby('country').count().loc[:, 'error'].sort_values(ascending=False)\n",
    "temp2 = X.groupby('Country name').count().loc[:, 'year']\n",
    "temp3 = pd.concat([temp1, temp2], axis=1)\n",
    "temp3['diff'] = temp3['year']-temp3['error']\n",
    "temp3.sort_values(by=['diff']).iloc[:50,:]"
   ]
  },
  {
   "cell_type": "markdown",
   "id": "9fecd2c6",
   "metadata": {},
   "source": [
    "### Explain with LIME"
   ]
  },
  {
   "cell_type": "code",
   "execution_count": null,
   "id": "d399f174",
   "metadata": {},
   "outputs": [],
   "source": [
    "import lime\n",
    "import lime.lime_tabular"
   ]
  },
  {
   "cell_type": "code",
   "execution_count": null,
   "id": "3cf3deee",
   "metadata": {},
   "outputs": [],
   "source": [
    "X_train.shape"
   ]
  },
  {
   "cell_type": "code",
   "execution_count": null,
   "id": "a508204f",
   "metadata": {},
   "outputs": [],
   "source": [
    "X.columns[2:]"
   ]
  },
  {
   "cell_type": "code",
   "execution_count": null,
   "id": "cca82134",
   "metadata": {},
   "outputs": [],
   "source": [
    "explainer = lime.lime_tabular.LimeTabularExplainer(X_train, \n",
    "                                                   feature_names=X.columns[2:],\n",
    "                                                   categorical_features=[6],\n",
    "                                                   verbose=True,\n",
    "                                                   mode='regression')"
   ]
  },
  {
   "cell_type": "markdown",
   "id": "bdeae675",
   "metadata": {},
   "source": [
    "#### Sri Lanka"
   ]
  },
  {
   "cell_type": "code",
   "execution_count": null,
   "id": "f88461ea",
   "metadata": {},
   "outputs": [],
   "source": [
    "sri_lanka_index = X[X['Country name']=='Sri Lanka'].index[-1]"
   ]
  },
  {
   "cell_type": "code",
   "execution_count": null,
   "id": "bb3542a2",
   "metadata": {},
   "outputs": [],
   "source": [
    "exp = explainer.explain_instance(X_train[sri_lanka_index, :], cv_model.predict, num_features=5)"
   ]
  },
  {
   "cell_type": "code",
   "execution_count": null,
   "id": "5e48bb56",
   "metadata": {},
   "outputs": [],
   "source": [
    "y_train[sri_lanka_index]"
   ]
  },
  {
   "cell_type": "code",
   "execution_count": null,
   "id": "a8f06284",
   "metadata": {},
   "outputs": [],
   "source": [
    "exp.show_in_notebook(show_table=True)"
   ]
  },
  {
   "cell_type": "code",
   "execution_count": null,
   "id": "28f32910",
   "metadata": {
    "scrolled": true
   },
   "outputs": [],
   "source": [
    "plt.figure(figsize=(10, 5))\n",
    "plt.hist(X[X['Healthy life expectancy']>65.20].loc[:, 'Ladder score'], density=True)\n",
    "plt.xlabel('Ladder Score')\n",
    "plt.ylabel('Approx Density')\n",
    "plt.title('Historgram of Ladder score for Healthy life expectancy > 65.20')\n",
    "plt.show()"
   ]
  },
  {
   "cell_type": "markdown",
   "id": "cc57234d",
   "metadata": {},
   "source": [
    "#### Syria"
   ]
  },
  {
   "cell_type": "code",
   "execution_count": null,
   "id": "b9611786",
   "metadata": {},
   "outputs": [],
   "source": [
    "syria_indices = XTrain['Country name']=='Sudan'"
   ]
  },
  {
   "cell_type": "code",
   "execution_count": null,
   "id": "4855cdd2",
   "metadata": {},
   "outputs": [],
   "source": [
    "syria_predict = cv_model.predict(X_train[syria_indices, :])\n",
    "np.abs(y_train[syria_indices]-syria_predict)"
   ]
  },
  {
   "cell_type": "code",
   "execution_count": null,
   "id": "086fd890",
   "metadata": {},
   "outputs": [],
   "source": [
    "syria1, syria2 = 4,3\n",
    "print(f'True = {y_train[[syria1,syria2]]}')\n",
    "print(f'Predict = {syria_predict[[syria1,syria2]]}')"
   ]
  },
  {
   "cell_type": "code",
   "execution_count": null,
   "id": "86fcd9d2",
   "metadata": {},
   "outputs": [],
   "source": [
    "exp = explainer.explain_instance(X_train[syria1, :], cv_model.predict, num_features=5)"
   ]
  },
  {
   "cell_type": "code",
   "execution_count": null,
   "id": "1fe804c5",
   "metadata": {},
   "outputs": [],
   "source": [
    "exp.show_in_notebook(show_table=True)"
   ]
  },
  {
   "cell_type": "code",
   "execution_count": null,
   "id": "4d01e7d5",
   "metadata": {},
   "outputs": [],
   "source": [
    "exp = explainer.explain_instance(X_train[syria2, :], cv_model.predict, num_features=5)"
   ]
  },
  {
   "cell_type": "code",
   "execution_count": null,
   "id": "4e37a00d",
   "metadata": {},
   "outputs": [],
   "source": [
    "exp.show_in_notebook(show_table=True)"
   ]
  },
  {
   "cell_type": "code",
   "execution_count": null,
   "id": "d4b8527d",
   "metadata": {},
   "outputs": [],
   "source": [
    "exp.as_list()"
   ]
  },
  {
   "cell_type": "code",
   "execution_count": null,
   "id": "28f087f2",
   "metadata": {},
   "outputs": [],
   "source": [
    "plt.hist(X[X['Healthy life expectancy']<58.30].loc[:, 'Ladder score'])\n",
    "plt.show()"
   ]
  },
  {
   "cell_type": "code",
   "execution_count": null,
   "id": "1f474fa7",
   "metadata": {},
   "outputs": [],
   "source": [
    "plt.hist(X[X['Social support']<=0.74].loc[:, 'Ladder score'])\n",
    "plt.show()"
   ]
  },
  {
   "cell_type": "code",
   "execution_count": null,
   "id": "61de7c7f",
   "metadata": {},
   "outputs": [],
   "source": [
    "plt.hist(X[X['Logged GDP per capita']<=8.4].loc[:, 'Ladder score'])\n",
    "plt.show()"
   ]
  },
  {
   "cell_type": "code",
   "execution_count": null,
   "id": "4e3a04f6",
   "metadata": {},
   "outputs": [],
   "source": []
  }
 ],
 "metadata": {
  "kernelspec": {
   "display_name": "Python 3",
   "language": "python",
   "name": "python3"
  },
  "language_info": {
   "codemirror_mode": {
    "name": "ipython",
    "version": 3
   },
   "file_extension": ".py",
   "mimetype": "text/x-python",
   "name": "python",
   "nbconvert_exporter": "python",
   "pygments_lexer": "ipython3",
   "version": "3.7.9"
  }
 },
 "nbformat": 4,
 "nbformat_minor": 5
}
