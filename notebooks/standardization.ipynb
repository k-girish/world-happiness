{
  "nbformat": 4,
  "nbformat_minor": 0,
  "metadata": {
    "colab": {
      "name": "standardization.ipynb",
      "provenance": []
    },
    "kernelspec": {
      "name": "python3",
      "display_name": "Python 3"
    },
    "language_info": {
      "name": "python"
    }
  },
  "cells": [
    {
      "cell_type": "code",
      "metadata": {
        "id": "c7hc4BrmUkrx"
      },
      "source": [
        "import numpy as np\n",
        "import pandas as pd\n",
        "\n",
        "from sklearn import preprocessing\n"
      ],
      "execution_count": 12,
      "outputs": []
    },
    {
      "cell_type": "code",
      "metadata": {
        "id": "IxBPYYHtXqP7"
      },
      "source": [
        "data = pd.read_csv('final_data.csv')\n",
        "data.head()"
      ],
      "execution_count": null,
      "outputs": []
    },
    {
      "cell_type": "code",
      "metadata": {
        "id": "_Qig_V8dX8HW"
      },
      "source": [
        "#standardization using MinMaxScalar\n",
        "col = ['Logged GDP per capita', 'Social support', 'Healthy life expectancy','Freedom to make life choices', 'Generosity','Perceptions of corruption']\n",
        "standardized_data = data\n",
        "\n",
        "min_max_scaler = preprocessing.MinMaxScaler()\n",
        "standardized_data[col] = min_max_scaler.fit_transform(standardized_data[col])\n",
        "standardized_data.to_csv('standardized_data.csv', index=False)"
      ],
      "execution_count": 13,
      "outputs": []
    },
    {
      "cell_type": "code",
      "metadata": {
        "colab": {
          "base_uri": "https://localhost:8080/",
          "height": 269
        },
        "id": "ZXFTpPBodAEs",
        "outputId": "1e469dbc-9f5c-4836-fa29-90fc903af82b"
      },
      "source": [
        "#check\n",
        "import matplotlib.pyplot as plt\n",
        "\n",
        "plt.hist(standardized_data['Logged GDP per capita'])\n",
        "plt.show()"
      ],
      "execution_count": 14,
      "outputs": [
        {
          "output_type": "display_data",
          "data": {
            "image/png": "[encoded data removed]",
            "text/plain": [
              "<Figure size 432x288 with 1 Axes>"
            ]
          },
          "metadata": {
            "tags": [],
            "needs_background": "light"
          }
        }
      ]
    }
  ]
}